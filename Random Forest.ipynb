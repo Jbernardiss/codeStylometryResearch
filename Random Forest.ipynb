{
 "cells": [
  {
   "cell_type": "code",
   "execution_count": 21,
   "id": "036ad319",
   "metadata": {
    "scrolled": true
   },
   "outputs": [
    {
     "name": "stdout",
     "output_type": "stream",
     "text": [
      "Type the path to the training files: C:\\Users\\andre\\OneDrive\\Documentos\\Estudo\\Teste IA\\codeStylometryResearch\\data\\dataset-v4\n",
      "[ 1.          0.1515499   0.         -3.314186   19.16363636 -3.34942982\n",
      " -3.66451086 -0.97389572]\n",
      "Accuracy: 90.9090909090909\n"
     ]
    }
   ],
   "source": [
    "from modules.layout import layoutAnalysis\n",
    "from modules.lexical import lexicalAnalisys\n",
    "from modules.vectorizer import vectorizeFileInLines, vectorizeFile\n",
    "from sklearn.model_selection import train_test_split\n",
    "from sklearn.ensemble import RandomForestClassifier\n",
    "from sklearn.metrics import accuracy_score\n",
    "import numpy as np\n",
    "import glob\n",
    "import os\n",
    "import sys\n",
    "\n",
    "\n",
    "def printTestsPredicts(y_test, predictedAuthor):\n",
    "    print(\"\\n\\nTests: \")\n",
    "    erros = 0\n",
    "    for a, b in zip(y_test, predictedAuthor):\n",
    "\n",
    "        if a == b:\n",
    "            print(f'{a} = {b}: V')\n",
    "        if a != b:\n",
    "            print(f'{a} != {b}: F')\n",
    "            erros += 1\n",
    "\n",
    "    print(f'Total: {len(y_test)}')\n",
    "    print(f'Erros: {erros}')\n",
    "\n",
    "if os.name == \"posix\":\n",
    "    filesPath = glob.glob(input(\"Type the path to the training files: \").replace(\"'\", \"\") + \"/*/*.cpp\")\n",
    "    filesLabels = [path.split(\"/\")[-2] for path in filesPath]\n",
    "\n",
    "elif os.name == \"nt\":\n",
    "    filesPath = glob.glob(input(\"Type the path to the training files: \").replace(\"'\", \"\") + \"\\*\\*.cpp\")\n",
    "    filesLabels = [path.split(\"\\\\\")[-2] for path in filesPath]\n",
    "\n",
    "# vectorizeFileInLines vectorizes files and separates the lines so each file is represented as list[str] so the total set is list(vectorizedFilesInLines)[list(each file)[str(each line)]]\n",
    "vectorizedFilesInLines = [vectorizeFileInLines(path) for path in filesPath]\n",
    "# vectorizeFile vectorizes files and each file is represented as str so the total set is list(vectorizedFilesWhole)[str(each file)]\n",
    "vectorizedFilesWhole = [vectorizeFile(path) for path in filesPath]\n",
    "\n",
    "# this generates the data sets for each type of analysis\n",
    "filesLayoutData = layoutAnalysis(vectorizedFilesInLines)\n",
    "filesLexicalData = lexicalAnalisys(vectorizedFilesWhole)\n",
    "\n",
    "# this sums the two data sets so each file is represented as a list of features\n",
    "filesData = np.concatenate((filesLayoutData, filesLexicalData), axis=1)\n",
    "print(filesData[0])\n",
    "\n",
    "x_train, x_test, y_train, y_test = train_test_split(filesData, filesLabels, test_size=0.3)\n",
    "\n",
    "# Geração do modelo por processo de machine learning com os dados dos arquivos conhecidos\n",
    "model = RandomForestClassifier(n_estimators = 5000)\n",
    "model.fit(x_train, y_train)\n",
    "\n",
    "# Previsão sobre de quem o arquivo misterioso é\n",
    "predictedAuthor = model.predict(x_test)\n",
    "\n",
    "# Calculo da precisão do modelo\n",
    "print(f'Accuracy: {accuracy_score(y_test, predictedAuthor) * 100}')\n",
    "\n",
    "if \"-v\" in sys.argv:\n",
    "    printTestsPredicts(y_test, predictedAuthor)\n"
   ]
  },
  {
   "cell_type": "code",
   "execution_count": null,
   "id": "d1a90c7e",
   "metadata": {},
   "outputs": [],
   "source": []
  }
 ],
 "metadata": {
  "kernelspec": {
   "display_name": "Python 3 (ipykernel)",
   "language": "python",
   "name": "python3"
  },
  "language_info": {
   "codemirror_mode": {
    "name": "ipython",
    "version": 3
   },
   "file_extension": ".py",
   "mimetype": "text/x-python",
   "name": "python",
   "nbconvert_exporter": "python",
   "pygments_lexer": "ipython3",
   "version": "3.11.5"
  }
 },
 "nbformat": 4,
 "nbformat_minor": 5
}
